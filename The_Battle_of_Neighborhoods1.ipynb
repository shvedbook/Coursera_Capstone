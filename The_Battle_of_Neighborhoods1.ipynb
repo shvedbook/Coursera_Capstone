{
    "cells": [
        {
            "metadata": {
                "collapsed": true
            },
            "cell_type": "markdown",
            "source": "# #capstone project - the battle of the neighbourhoods"
        },
        {
            "metadata": {},
            "cell_type": "markdown",
            "source": "## Introduction:\n\nInternational food is enjoying great popularity in Tokyo, Furthermore, Tokyo is home to various international communities, which have brought a variety of different cuisines with them. While popular foods such as Chinese, Indian, Italian, French and Korean can be found virtually anywhere in the city, there are also a few districts serving less prominent international cuisines especially around the embassies. Our client wants to open A luxury restaurant that will serve international cuisine in Tokyo.\n\nBusiness problem:\n\nForeign food is already widely available in Japan, with restaurants serving Chinese, Indian, French and Italian cuisine amongst others and Tokyo know as high cost city, from food cost to rent of place for the restaurant.\nWe need to find the best combination of target market and location to make sure that the restaurant has good chance to success.\n\nFind the best location:\n\nWe need to find best combination of lowest rental price with Population with high income levels.\n\nTarget market:\n\nWe need to characterize the target audience so we can figure out who's the target audience we need.\n"
        },
        {
            "metadata": {},
            "cell_type": "code",
            "source": "",
            "execution_count": null,
            "outputs": []
        }
    ],
    "metadata": {
        "kernelspec": {
            "name": "python3",
            "display_name": "Python 3.6",
            "language": "python"
        },
        "language_info": {
            "name": "python",
            "version": "3.6.9",
            "mimetype": "text/x-python",
            "codemirror_mode": {
                "name": "ipython",
                "version": 3
            },
            "pygments_lexer": "ipython3",
            "nbconvert_exporter": "python",
            "file_extension": ".py"
        }
    },
    "nbformat": 4,
    "nbformat_minor": 1
}