{
    "cells": [
        {
            "cell_type": "code",
            "execution_count": 47,
            "metadata": {
                "scrolled": true
            },
            "outputs": [
                {
                    "data": {
                        "text/html": "<div>\n<style scoped>\n    .dataframe tbody tr th:only-of-type {\n        vertical-align: middle;\n    }\n\n    .dataframe tbody tr th {\n        vertical-align: top;\n    }\n\n    .dataframe thead th {\n        text-align: right;\n    }\n</style>\n<table border=\"1\" class=\"dataframe\">\n  <thead>\n    <tr style=\"text-align: right;\">\n      <th></th>\n      <th>NEIGHBORHOOD</th>\n      <th>ADDRESS</th>\n      <th>ZIP CODE</th>\n      <th>GROSS SQUARE FEET</th>\n      <th>YEAR BUILT</th>\n      <th>SALE PRICE</th>\n      <th>SALE DATE</th>\n      <th>SALE DATE.1</th>\n    </tr>\n  </thead>\n  <tbody>\n    <tr>\n      <th>0</th>\n      <td>BATHGATE</td>\n      <td>4445 PARK AVENUE</td>\n      <td>10457.0</td>\n      <td>1497.0</td>\n      <td>1899.0</td>\n      <td>388500</td>\n      <td>2019-07-23</td>\n      <td>bronx</td>\n    </tr>\n    <tr>\n      <th>1</th>\n      <td>BATHGATE</td>\n      <td>1948 BATHGATE AVENUE</td>\n      <td>10457.0</td>\n      <td>2047.0</td>\n      <td>1901.0</td>\n      <td>470000</td>\n      <td>2019-03-08</td>\n      <td>bronx</td>\n    </tr>\n    <tr>\n      <th>2</th>\n      <td>BATHGATE</td>\n      <td>2075 BATHGATE AVENUE</td>\n      <td>10457.0</td>\n      <td>1344.0</td>\n      <td>1899.0</td>\n      <td>420000</td>\n      <td>2019-05-24</td>\n      <td>bronx</td>\n    </tr>\n    <tr>\n      <th>3</th>\n      <td>BAYCHESTER</td>\n      <td>1137 EAST 213 STREET</td>\n      <td>10469.0</td>\n      <td>1637.0</td>\n      <td>1945.0</td>\n      <td>300000</td>\n      <td>2019-10-16</td>\n      <td>bronx</td>\n    </tr>\n    <tr>\n      <th>4</th>\n      <td>BAYCHESTER</td>\n      <td>1409 OAKLEY STREET</td>\n      <td>10469.0</td>\n      <td>1395.0</td>\n      <td>1935.0</td>\n      <td>325000</td>\n      <td>2019-05-03</td>\n      <td>bronx</td>\n    </tr>\n  </tbody>\n</table>\n</div>",
                        "text/plain": "  NEIGHBORHOOD               ADDRESS  ZIP CODE  GROSS SQUARE FEET  YEAR BUILT  \\\n0     BATHGATE      4445 PARK AVENUE   10457.0             1497.0      1899.0   \n1     BATHGATE  1948 BATHGATE AVENUE   10457.0             2047.0      1901.0   \n2     BATHGATE  2075 BATHGATE AVENUE   10457.0             1344.0      1899.0   \n3   BAYCHESTER  1137 EAST 213 STREET   10469.0             1637.0      1945.0   \n4   BAYCHESTER    1409 OAKLEY STREET   10469.0             1395.0      1935.0   \n\n   SALE PRICE  SALE DATE SALE DATE.1  \n0      388500 2019-07-23       bronx  \n1      470000 2019-03-08       bronx  \n2      420000 2019-05-24       bronx  \n3      300000 2019-10-16       bronx  \n4      325000 2019-05-03       bronx  "
                    },
                    "execution_count": 47,
                    "metadata": {},
                    "output_type": "execute_result"
                }
            ],
            "source": "# The code was removed by Watson Studio for sharing."
        },
        {
            "cell_type": "markdown",
            "metadata": {},
            "source": "#drop columns"
        },
        {
            "cell_type": "code",
            "execution_count": 19,
            "metadata": {},
            "outputs": [
                {
                    "data": {
                        "text/html": "<div>\n<style scoped>\n    .dataframe tbody tr th:only-of-type {\n        vertical-align: middle;\n    }\n\n    .dataframe tbody tr th {\n        vertical-align: top;\n    }\n\n    .dataframe thead th {\n        text-align: right;\n    }\n</style>\n<table border=\"1\" class=\"dataframe\">\n  <thead>\n    <tr style=\"text-align: right;\">\n      <th></th>\n      <th>NEIGHBORHOOD</th>\n      <th>GROSS SQUARE FEET</th>\n      <th>SALE PRICE</th>\n      <th>SALE DATE.1</th>\n    </tr>\n  </thead>\n  <tbody>\n    <tr>\n      <th>0</th>\n      <td>BATHGATE</td>\n      <td>1497.0</td>\n      <td>388500</td>\n      <td>bronx</td>\n    </tr>\n    <tr>\n      <th>1</th>\n      <td>BATHGATE</td>\n      <td>2047.0</td>\n      <td>470000</td>\n      <td>bronx</td>\n    </tr>\n    <tr>\n      <th>2</th>\n      <td>BATHGATE</td>\n      <td>1344.0</td>\n      <td>420000</td>\n      <td>bronx</td>\n    </tr>\n    <tr>\n      <th>3</th>\n      <td>BAYCHESTER</td>\n      <td>1637.0</td>\n      <td>300000</td>\n      <td>bronx</td>\n    </tr>\n    <tr>\n      <th>4</th>\n      <td>BAYCHESTER</td>\n      <td>1395.0</td>\n      <td>325000</td>\n      <td>bronx</td>\n    </tr>\n    <tr>\n      <th>5</th>\n      <td>BAYCHESTER</td>\n      <td>1690.0</td>\n      <td>460000</td>\n      <td>bronx</td>\n    </tr>\n    <tr>\n      <th>6</th>\n      <td>BAYCHESTER</td>\n      <td>1690.0</td>\n      <td>500000</td>\n      <td>bronx</td>\n    </tr>\n    <tr>\n      <th>7</th>\n      <td>BAYCHESTER</td>\n      <td>1648.0</td>\n      <td>465000</td>\n      <td>bronx</td>\n    </tr>\n    <tr>\n      <th>8</th>\n      <td>BAYCHESTER</td>\n      <td>1024.0</td>\n      <td>404250</td>\n      <td>bronx</td>\n    </tr>\n    <tr>\n      <th>9</th>\n      <td>BAYCHESTER</td>\n      <td>1764.0</td>\n      <td>498200</td>\n      <td>bronx</td>\n    </tr>\n  </tbody>\n</table>\n</div>",
                        "text/plain": "  NEIGHBORHOOD  GROSS SQUARE FEET  SALE PRICE SALE DATE.1\n0     BATHGATE             1497.0      388500       bronx\n1     BATHGATE             2047.0      470000       bronx\n2     BATHGATE             1344.0      420000       bronx\n3   BAYCHESTER             1637.0      300000       bronx\n4   BAYCHESTER             1395.0      325000       bronx\n5   BAYCHESTER             1690.0      460000       bronx\n6   BAYCHESTER             1690.0      500000       bronx\n7   BAYCHESTER             1648.0      465000       bronx\n8   BAYCHESTER             1024.0      404250       bronx\n9   BAYCHESTER             1764.0      498200       bronx"
                    },
                    "execution_count": 19,
                    "metadata": {},
                    "output_type": "execute_result"
                }
            ],
            "source": "droped_data = df_data_0.drop(columns=['ADDRESS', 'ZIP CODE','YEAR BUILT','SALE DATE'])\ndroped_data.head(10)"
        },
        {
            "cell_type": "markdown",
            "metadata": {},
            "source": "#make data frame that include colum price per feet data"
        },
        {
            "cell_type": "code",
            "execution_count": 20,
            "metadata": {},
            "outputs": [
                {
                    "data": {
                        "text/html": "<div>\n<style scoped>\n    .dataframe tbody tr th:only-of-type {\n        vertical-align: middle;\n    }\n\n    .dataframe tbody tr th {\n        vertical-align: top;\n    }\n\n    .dataframe thead th {\n        text-align: right;\n    }\n</style>\n<table border=\"1\" class=\"dataframe\">\n  <thead>\n    <tr style=\"text-align: right;\">\n      <th></th>\n      <th>NEIGHBORHOOD</th>\n      <th>GROSS SQUARE FEET</th>\n      <th>SALE PRICE</th>\n      <th>SALE DATE.1</th>\n      <th>BOROUGH</th>\n      <th>price_per_feet</th>\n    </tr>\n  </thead>\n  <tbody>\n    <tr>\n      <th>0</th>\n      <td>BATHGATE</td>\n      <td>1497.0</td>\n      <td>388500</td>\n      <td>bronx</td>\n      <td>bronx</td>\n      <td>259.52</td>\n    </tr>\n    <tr>\n      <th>1</th>\n      <td>BATHGATE</td>\n      <td>2047.0</td>\n      <td>470000</td>\n      <td>bronx</td>\n      <td>bronx</td>\n      <td>229.60</td>\n    </tr>\n    <tr>\n      <th>2</th>\n      <td>BATHGATE</td>\n      <td>1344.0</td>\n      <td>420000</td>\n      <td>bronx</td>\n      <td>bronx</td>\n      <td>312.50</td>\n    </tr>\n    <tr>\n      <th>3</th>\n      <td>BAYCHESTER</td>\n      <td>1637.0</td>\n      <td>300000</td>\n      <td>bronx</td>\n      <td>bronx</td>\n      <td>183.26</td>\n    </tr>\n    <tr>\n      <th>4</th>\n      <td>BAYCHESTER</td>\n      <td>1395.0</td>\n      <td>325000</td>\n      <td>bronx</td>\n      <td>bronx</td>\n      <td>232.97</td>\n    </tr>\n    <tr>\n      <th>5</th>\n      <td>BAYCHESTER</td>\n      <td>1690.0</td>\n      <td>460000</td>\n      <td>bronx</td>\n      <td>bronx</td>\n      <td>272.19</td>\n    </tr>\n    <tr>\n      <th>6</th>\n      <td>BAYCHESTER</td>\n      <td>1690.0</td>\n      <td>500000</td>\n      <td>bronx</td>\n      <td>bronx</td>\n      <td>295.86</td>\n    </tr>\n    <tr>\n      <th>7</th>\n      <td>BAYCHESTER</td>\n      <td>1648.0</td>\n      <td>465000</td>\n      <td>bronx</td>\n      <td>bronx</td>\n      <td>282.16</td>\n    </tr>\n    <tr>\n      <th>8</th>\n      <td>BAYCHESTER</td>\n      <td>1024.0</td>\n      <td>404250</td>\n      <td>bronx</td>\n      <td>bronx</td>\n      <td>394.78</td>\n    </tr>\n    <tr>\n      <th>9</th>\n      <td>BAYCHESTER</td>\n      <td>1764.0</td>\n      <td>498200</td>\n      <td>bronx</td>\n      <td>bronx</td>\n      <td>282.43</td>\n    </tr>\n  </tbody>\n</table>\n</div>",
                        "text/plain": "  NEIGHBORHOOD  GROSS SQUARE FEET  SALE PRICE SALE DATE.1 BOROUGH  \\\n0     BATHGATE             1497.0      388500       bronx   bronx   \n1     BATHGATE             2047.0      470000       bronx   bronx   \n2     BATHGATE             1344.0      420000       bronx   bronx   \n3   BAYCHESTER             1637.0      300000       bronx   bronx   \n4   BAYCHESTER             1395.0      325000       bronx   bronx   \n5   BAYCHESTER             1690.0      460000       bronx   bronx   \n6   BAYCHESTER             1690.0      500000       bronx   bronx   \n7   BAYCHESTER             1648.0      465000       bronx   bronx   \n8   BAYCHESTER             1024.0      404250       bronx   bronx   \n9   BAYCHESTER             1764.0      498200       bronx   bronx   \n\n   price_per_feet  \n0          259.52  \n1          229.60  \n2          312.50  \n3          183.26  \n4          232.97  \n5          272.19  \n6          295.86  \n7          282.16  \n8          394.78  \n9          282.43  "
                    },
                    "execution_count": 20,
                    "metadata": {},
                    "output_type": "execute_result"
                }
            ],
            "source": "droped_data['BOROUGH'] = droped_data['SALE DATE.1']\ndf_ppf = pd.DataFrame(data=droped_data['SALE PRICE'] / droped_data['GROSS SQUARE FEET'])\ndf_ppf = df_ppf.round(2)\n\ndroped_data['price_per_feet'] = df_ppf[0]\ndroped_data = droped_data[droped_data['price_per_feet'] <= 5000]\ndroped_data.head(10)"
        },
        {
            "cell_type": "markdown",
            "metadata": {},
            "source": "data frame groupby BOROUGH"
        },
        {
            "cell_type": "code",
            "execution_count": 43,
            "metadata": {},
            "outputs": [
                {
                    "data": {
                        "text/html": "<div>\n<style scoped>\n    .dataframe tbody tr th:only-of-type {\n        vertical-align: middle;\n    }\n\n    .dataframe tbody tr th {\n        vertical-align: top;\n    }\n\n    .dataframe thead th {\n        text-align: right;\n    }\n</style>\n<table border=\"1\" class=\"dataframe\">\n  <thead>\n    <tr style=\"text-align: right;\">\n      <th></th>\n      <th>GROSS SQUARE FEET</th>\n      <th>SALE PRICE</th>\n      <th>price_per_feet</th>\n    </tr>\n    <tr>\n      <th>BOROUGH</th>\n      <th></th>\n      <th></th>\n      <th></th>\n    </tr>\n  </thead>\n  <tbody>\n    <tr>\n      <th>Brooklyn</th>\n      <td>1635.257504</td>\n      <td>9.594249e+05</td>\n      <td>582.972912</td>\n    </tr>\n    <tr>\n      <th>Manhattan</th>\n      <td>16799.850000</td>\n      <td>1.694605e+07</td>\n      <td>1713.724143</td>\n    </tr>\n    <tr>\n      <th>bronx</th>\n      <td>1621.361570</td>\n      <td>5.433929e+05</td>\n      <td>346.618306</td>\n    </tr>\n    <tr>\n      <th>queens</th>\n      <td>2659.183195</td>\n      <td>6.752716e+05</td>\n      <td>271.142093</td>\n    </tr>\n    <tr>\n      <th>statenisland</th>\n      <td>1603.758827</td>\n      <td>5.826481e+05</td>\n      <td>393.822229</td>\n    </tr>\n  </tbody>\n</table>\n</div>",
                        "text/plain": "              GROSS SQUARE FEET    SALE PRICE  price_per_feet\nBOROUGH                                                      \nBrooklyn            1635.257504  9.594249e+05      582.972912\nManhattan          16799.850000  1.694605e+07     1713.724143\nbronx               1621.361570  5.433929e+05      346.618306\nqueens              2659.183195  6.752716e+05      271.142093\nstatenisland        1603.758827  5.826481e+05      393.822229"
                    },
                    "execution_count": 43,
                    "metadata": {},
                    "output_type": "execute_result"
                }
            ],
            "source": "grouped_df = droped_data.groupby('BOROUGH').mean()\ngrouped_df.head(10)     "
        },
        {
            "cell_type": "markdown",
            "metadata": {},
            "source": "## make dataframe that include only relevant data(BOROUGH and price per feet)"
        },
        {
            "cell_type": "code",
            "execution_count": 46,
            "metadata": {},
            "outputs": [
                {
                    "data": {
                        "text/html": "<div>\n<style scoped>\n    .dataframe tbody tr th:only-of-type {\n        vertical-align: middle;\n    }\n\n    .dataframe tbody tr th {\n        vertical-align: top;\n    }\n\n    .dataframe thead th {\n        text-align: right;\n    }\n</style>\n<table border=\"1\" class=\"dataframe\">\n  <thead>\n    <tr style=\"text-align: right;\">\n      <th></th>\n      <th>BOROUGH</th>\n      <th>PRICE_PER_FEET</th>\n    </tr>\n  </thead>\n  <tbody>\n    <tr>\n      <th>0</th>\n      <td>Brooklyn</td>\n      <td>582.97</td>\n    </tr>\n    <tr>\n      <th>1</th>\n      <td>Manhattan</td>\n      <td>1713.72</td>\n    </tr>\n    <tr>\n      <th>2</th>\n      <td>bronx</td>\n      <td>346.61</td>\n    </tr>\n    <tr>\n      <th>3</th>\n      <td>queens</td>\n      <td>271.14</td>\n    </tr>\n    <tr>\n      <th>4</th>\n      <td>statenisland</td>\n      <td>393.82</td>\n    </tr>\n  </tbody>\n</table>\n</div>",
                        "text/plain": "        BOROUGH  PRICE_PER_FEET\n0      Brooklyn          582.97\n1     Manhattan         1713.72\n2         bronx          346.61\n3        queens          271.14\n4  statenisland          393.82"
                    },
                    "execution_count": 46,
                    "metadata": {},
                    "output_type": "execute_result"
                }
            ],
            "source": "#I maked new DF becouse i fail with optimize it by code:\n\nprice_df = pd.DataFrame({\n    'BOROUGH':['Brooklyn','Manhattan','bronx','queens','statenisland'],\n    'PRICE_PER_FEET':[582.97,1713.72,346.61,271.14,393.82]\n})\nprice_df.head()"
        },
        {
            "cell_type": "code",
            "execution_count": null,
            "metadata": {},
            "outputs": [],
            "source": ""
        }
    ],
    "metadata": {
        "kernelspec": {
            "display_name": "Python 3.6",
            "language": "python",
            "name": "python3"
        },
        "language_info": {
            "codemirror_mode": {
                "name": "ipython",
                "version": 3
            },
            "file_extension": ".py",
            "mimetype": "text/x-python",
            "name": "python",
            "nbconvert_exporter": "python",
            "pygments_lexer": "ipython3",
            "version": "3.6.9"
        }
    },
    "nbformat": 4,
    "nbformat_minor": 1
}