{
    "cells": [
        {
            "cell_type": "code",
            "execution_count": 4,
            "metadata": {
                "scrolled": true
            },
            "outputs": [
                {
                    "data": {
                        "text/html": "<div>\n<style scoped>\n    .dataframe tbody tr th:only-of-type {\n        vertical-align: middle;\n    }\n\n    .dataframe tbody tr th {\n        vertical-align: top;\n    }\n\n    .dataframe thead th {\n        text-align: right;\n    }\n</style>\n<table border=\"1\" class=\"dataframe\">\n  <thead>\n    <tr style=\"text-align: right;\">\n      <th></th>\n      <th>NEIGHBORHOOD</th>\n      <th>ADDRESS</th>\n      <th>ZIP CODE</th>\n      <th>GROSS SQUARE FEET</th>\n      <th>YEAR BUILT</th>\n      <th>SALE PRICE</th>\n      <th>SALE DATE</th>\n    </tr>\n  </thead>\n  <tbody>\n    <tr>\n      <th>0</th>\n      <td>BATHGATE</td>\n      <td>4445 PARK AVENUE</td>\n      <td>10457</td>\n      <td>1497</td>\n      <td>1899.0</td>\n      <td>388500</td>\n      <td>2019-07-23</td>\n    </tr>\n    <tr>\n      <th>1</th>\n      <td>BATHGATE</td>\n      <td>1948 BATHGATE AVENUE</td>\n      <td>10457</td>\n      <td>2047</td>\n      <td>1901.0</td>\n      <td>470000</td>\n      <td>2019-03-08</td>\n    </tr>\n    <tr>\n      <th>2</th>\n      <td>BATHGATE</td>\n      <td>2075 BATHGATE AVENUE</td>\n      <td>10457</td>\n      <td>1344</td>\n      <td>1899.0</td>\n      <td>420000</td>\n      <td>2019-05-24</td>\n    </tr>\n    <tr>\n      <th>3</th>\n      <td>BAYCHESTER</td>\n      <td>1137 EAST 213 STREET</td>\n      <td>10469</td>\n      <td>1637</td>\n      <td>1945.0</td>\n      <td>300000</td>\n      <td>2019-10-16</td>\n    </tr>\n    <tr>\n      <th>4</th>\n      <td>BAYCHESTER</td>\n      <td>1409 OAKLEY STREET</td>\n      <td>10469</td>\n      <td>1395</td>\n      <td>1935.0</td>\n      <td>325000</td>\n      <td>2019-05-03</td>\n    </tr>\n  </tbody>\n</table>\n</div>",
                        "text/plain": "  NEIGHBORHOOD               ADDRESS  ZIP CODE  GROSS SQUARE FEET  YEAR BUILT  \\\n0     BATHGATE      4445 PARK AVENUE     10457               1497      1899.0   \n1     BATHGATE  1948 BATHGATE AVENUE     10457               2047      1901.0   \n2     BATHGATE  2075 BATHGATE AVENUE     10457               1344      1899.0   \n3   BAYCHESTER  1137 EAST 213 STREET     10469               1637      1945.0   \n4   BAYCHESTER    1409 OAKLEY STREET     10469               1395      1935.0   \n\n   SALE PRICE  SALE DATE  \n0      388500 2019-07-23  \n1      470000 2019-03-08  \n2      420000 2019-05-24  \n3      300000 2019-10-16  \n4      325000 2019-05-03  "
                    },
                    "execution_count": 4,
                    "metadata": {},
                    "output_type": "execute_result"
                }
            ],
            "source": "# The code was removed by Watson Studio for sharing."
        },
        {
            "cell_type": "markdown",
            "metadata": {},
            "source": "#drop columns"
        },
        {
            "cell_type": "code",
            "execution_count": 17,
            "metadata": {},
            "outputs": [
                {
                    "data": {
                        "text/html": "<div>\n<style scoped>\n    .dataframe tbody tr th:only-of-type {\n        vertical-align: middle;\n    }\n\n    .dataframe tbody tr th {\n        vertical-align: top;\n    }\n\n    .dataframe thead th {\n        text-align: right;\n    }\n</style>\n<table border=\"1\" class=\"dataframe\">\n  <thead>\n    <tr style=\"text-align: right;\">\n      <th></th>\n      <th>NEIGHBORHOOD</th>\n      <th>GROSS SQUARE FEET</th>\n      <th>SALE PRICE</th>\n    </tr>\n  </thead>\n  <tbody>\n    <tr>\n      <th>0</th>\n      <td>BATHGATE</td>\n      <td>1497</td>\n      <td>388500</td>\n    </tr>\n    <tr>\n      <th>1</th>\n      <td>BATHGATE</td>\n      <td>2047</td>\n      <td>470000</td>\n    </tr>\n    <tr>\n      <th>2</th>\n      <td>BATHGATE</td>\n      <td>1344</td>\n      <td>420000</td>\n    </tr>\n    <tr>\n      <th>3</th>\n      <td>BAYCHESTER</td>\n      <td>1637</td>\n      <td>300000</td>\n    </tr>\n    <tr>\n      <th>4</th>\n      <td>BAYCHESTER</td>\n      <td>1395</td>\n      <td>325000</td>\n    </tr>\n    <tr>\n      <th>5</th>\n      <td>BAYCHESTER</td>\n      <td>1690</td>\n      <td>460000</td>\n    </tr>\n    <tr>\n      <th>6</th>\n      <td>BAYCHESTER</td>\n      <td>1690</td>\n      <td>500000</td>\n    </tr>\n    <tr>\n      <th>7</th>\n      <td>BAYCHESTER</td>\n      <td>1648</td>\n      <td>465000</td>\n    </tr>\n    <tr>\n      <th>8</th>\n      <td>BAYCHESTER</td>\n      <td>1024</td>\n      <td>404250</td>\n    </tr>\n    <tr>\n      <th>9</th>\n      <td>BAYCHESTER</td>\n      <td>1764</td>\n      <td>498200</td>\n    </tr>\n  </tbody>\n</table>\n</div>",
                        "text/plain": "  NEIGHBORHOOD  GROSS SQUARE FEET  SALE PRICE\n0     BATHGATE               1497      388500\n1     BATHGATE               2047      470000\n2     BATHGATE               1344      420000\n3   BAYCHESTER               1637      300000\n4   BAYCHESTER               1395      325000\n5   BAYCHESTER               1690      460000\n6   BAYCHESTER               1690      500000\n7   BAYCHESTER               1648      465000\n8   BAYCHESTER               1024      404250\n9   BAYCHESTER               1764      498200"
                    },
                    "execution_count": 17,
                    "metadata": {},
                    "output_type": "execute_result"
                }
            ],
            "source": "droped_data = df_data_0.drop(columns=['ADDRESS', 'ZIP CODE','YEAR BUILT','SALE DATE'])\ndroped_data.head(10)"
        },
        {
            "cell_type": "markdown",
            "metadata": {},
            "source": "#make data frame that include colum price per feet data"
        },
        {
            "cell_type": "code",
            "execution_count": 42,
            "metadata": {},
            "outputs": [
                {
                    "data": {
                        "text/html": "<div>\n<style scoped>\n    .dataframe tbody tr th:only-of-type {\n        vertical-align: middle;\n    }\n\n    .dataframe tbody tr th {\n        vertical-align: top;\n    }\n\n    .dataframe thead th {\n        text-align: right;\n    }\n</style>\n<table border=\"1\" class=\"dataframe\">\n  <thead>\n    <tr style=\"text-align: right;\">\n      <th></th>\n      <th>NEIGHBORHOOD</th>\n      <th>GROSS SQUARE FEET</th>\n      <th>SALE PRICE</th>\n      <th>price_per_feet</th>\n    </tr>\n  </thead>\n  <tbody>\n    <tr>\n      <th>0</th>\n      <td>BATHGATE</td>\n      <td>1497</td>\n      <td>388500</td>\n      <td>259.52</td>\n    </tr>\n    <tr>\n      <th>1</th>\n      <td>BATHGATE</td>\n      <td>2047</td>\n      <td>470000</td>\n      <td>229.60</td>\n    </tr>\n    <tr>\n      <th>2</th>\n      <td>BATHGATE</td>\n      <td>1344</td>\n      <td>420000</td>\n      <td>312.50</td>\n    </tr>\n    <tr>\n      <th>3</th>\n      <td>BAYCHESTER</td>\n      <td>1637</td>\n      <td>300000</td>\n      <td>183.26</td>\n    </tr>\n    <tr>\n      <th>4</th>\n      <td>BAYCHESTER</td>\n      <td>1395</td>\n      <td>325000</td>\n      <td>232.97</td>\n    </tr>\n    <tr>\n      <th>5</th>\n      <td>BAYCHESTER</td>\n      <td>1690</td>\n      <td>460000</td>\n      <td>272.19</td>\n    </tr>\n    <tr>\n      <th>6</th>\n      <td>BAYCHESTER</td>\n      <td>1690</td>\n      <td>500000</td>\n      <td>295.86</td>\n    </tr>\n    <tr>\n      <th>7</th>\n      <td>BAYCHESTER</td>\n      <td>1648</td>\n      <td>465000</td>\n      <td>282.16</td>\n    </tr>\n    <tr>\n      <th>8</th>\n      <td>BAYCHESTER</td>\n      <td>1024</td>\n      <td>404250</td>\n      <td>394.78</td>\n    </tr>\n    <tr>\n      <th>9</th>\n      <td>BAYCHESTER</td>\n      <td>1764</td>\n      <td>498200</td>\n      <td>282.43</td>\n    </tr>\n  </tbody>\n</table>\n</div>",
                        "text/plain": "  NEIGHBORHOOD  GROSS SQUARE FEET  SALE PRICE  price_per_feet\n0     BATHGATE               1497      388500          259.52\n1     BATHGATE               2047      470000          229.60\n2     BATHGATE               1344      420000          312.50\n3   BAYCHESTER               1637      300000          183.26\n4   BAYCHESTER               1395      325000          232.97\n5   BAYCHESTER               1690      460000          272.19\n6   BAYCHESTER               1690      500000          295.86\n7   BAYCHESTER               1648      465000          282.16\n8   BAYCHESTER               1024      404250          394.78\n9   BAYCHESTER               1764      498200          282.43"
                    },
                    "execution_count": 42,
                    "metadata": {},
                    "output_type": "execute_result"
                }
            ],
            "source": "df_ppf = pd.DataFrame(data=droped_data['SALE PRICE'] / droped_data['GROSS SQUARE FEET'])\ndf_ppf = df_ppf.round(2)\n\ndroped_data['price_per_feet'] = df_ppf[0]\ndroped_data = droped_data[droped_data['price_per_feet'] <= 5000]\ndroped_data.head(10)"
        },
        {
            "cell_type": "markdown",
            "metadata": {},
            "source": "#data frame groupby neighborhood"
        },
        {
            "cell_type": "code",
            "execution_count": 43,
            "metadata": {},
            "outputs": [
                {
                    "data": {
                        "text/html": "<div>\n<style scoped>\n    .dataframe tbody tr th:only-of-type {\n        vertical-align: middle;\n    }\n\n    .dataframe tbody tr th {\n        vertical-align: top;\n    }\n\n    .dataframe thead th {\n        text-align: right;\n    }\n</style>\n<table border=\"1\" class=\"dataframe\">\n  <thead>\n    <tr style=\"text-align: right;\">\n      <th></th>\n      <th>GROSS SQUARE FEET</th>\n      <th>SALE PRICE</th>\n      <th>price_per_feet</th>\n    </tr>\n    <tr>\n      <th>NEIGHBORHOOD</th>\n      <th></th>\n      <th></th>\n      <th></th>\n    </tr>\n  </thead>\n  <tbody>\n    <tr>\n      <th>ANNADALE</th>\n      <td>2370.934426</td>\n      <td>7.345821e+05</td>\n      <td>355.723770</td>\n    </tr>\n    <tr>\n      <th>ARDEN HEIGHTS</th>\n      <td>1436.690909</td>\n      <td>4.497775e+05</td>\n      <td>318.096848</td>\n    </tr>\n    <tr>\n      <th>ARROCHAR</th>\n      <td>1448.545455</td>\n      <td>6.021604e+05</td>\n      <td>432.725455</td>\n    </tr>\n    <tr>\n      <th>ARROCHAR-SHORE ACRES</th>\n      <td>1741.125000</td>\n      <td>6.306562e+05</td>\n      <td>407.165000</td>\n    </tr>\n    <tr>\n      <th>BATH BEACH</th>\n      <td>1179.764706</td>\n      <td>8.367568e+05</td>\n      <td>745.022353</td>\n    </tr>\n    <tr>\n      <th>BATHGATE</th>\n      <td>1629.333333</td>\n      <td>4.261667e+05</td>\n      <td>267.206667</td>\n    </tr>\n    <tr>\n      <th>BAY RIDGE</th>\n      <td>1621.329787</td>\n      <td>1.101137e+06</td>\n      <td>687.821277</td>\n    </tr>\n    <tr>\n      <th>BAYCHESTER</th>\n      <td>1412.252101</td>\n      <td>4.166958e+05</td>\n      <td>309.346639</td>\n    </tr>\n    <tr>\n      <th>BEDFORD PARK/NORWOOD</th>\n      <td>1993.823529</td>\n      <td>1.411842e+06</td>\n      <td>841.807647</td>\n    </tr>\n    <tr>\n      <th>BEDFORD STUYVESANT</th>\n      <td>1870.428571</td>\n      <td>9.624206e+05</td>\n      <td>526.720357</td>\n    </tr>\n  </tbody>\n</table>\n</div>",
                        "text/plain": "                      GROSS SQUARE FEET    SALE PRICE  price_per_feet\nNEIGHBORHOOD                                                         \nANNADALE                    2370.934426  7.345821e+05      355.723770\nARDEN HEIGHTS               1436.690909  4.497775e+05      318.096848\nARROCHAR                    1448.545455  6.021604e+05      432.725455\nARROCHAR-SHORE ACRES        1741.125000  6.306562e+05      407.165000\nBATH BEACH                  1179.764706  8.367568e+05      745.022353\nBATHGATE                    1629.333333  4.261667e+05      267.206667\nBAY RIDGE                   1621.329787  1.101137e+06      687.821277\nBAYCHESTER                  1412.252101  4.166958e+05      309.346639\nBEDFORD PARK/NORWOOD        1993.823529  1.411842e+06      841.807647\nBEDFORD STUYVESANT          1870.428571  9.624206e+05      526.720357"
                    },
                    "execution_count": 43,
                    "metadata": {},
                    "output_type": "execute_result"
                }
            ],
            "source": "grouped_df = droped_data.groupby('NEIGHBORHOOD').mean()\ngrouped_df.head(10)                         "
        },
        {
            "cell_type": "markdown",
            "metadata": {},
            "source": "## make dataframe that include only relevant data(hood and price per feet)"
        },
        {
            "cell_type": "code",
            "execution_count": 52,
            "metadata": {},
            "outputs": [
                {
                    "data": {
                        "text/html": "<div>\n<style scoped>\n    .dataframe tbody tr th:only-of-type {\n        vertical-align: middle;\n    }\n\n    .dataframe tbody tr th {\n        vertical-align: top;\n    }\n\n    .dataframe thead th {\n        text-align: right;\n    }\n</style>\n<table border=\"1\" class=\"dataframe\">\n  <thead>\n    <tr style=\"text-align: right;\">\n      <th></th>\n      <th>price_per_feet</th>\n    </tr>\n    <tr>\n      <th>NEIGHBORHOOD</th>\n      <th></th>\n    </tr>\n  </thead>\n  <tbody>\n    <tr>\n      <th>ANNADALE</th>\n      <td>355.723770</td>\n    </tr>\n    <tr>\n      <th>ARDEN HEIGHTS</th>\n      <td>318.096848</td>\n    </tr>\n    <tr>\n      <th>ARROCHAR</th>\n      <td>432.725455</td>\n    </tr>\n    <tr>\n      <th>ARROCHAR-SHORE ACRES</th>\n      <td>407.165000</td>\n    </tr>\n    <tr>\n      <th>BATH BEACH</th>\n      <td>745.022353</td>\n    </tr>\n    <tr>\n      <th>BATHGATE</th>\n      <td>267.206667</td>\n    </tr>\n    <tr>\n      <th>BAY RIDGE</th>\n      <td>687.821277</td>\n    </tr>\n    <tr>\n      <th>BAYCHESTER</th>\n      <td>309.346639</td>\n    </tr>\n    <tr>\n      <th>BEDFORD PARK/NORWOOD</th>\n      <td>841.807647</td>\n    </tr>\n    <tr>\n      <th>BEDFORD STUYVESANT</th>\n      <td>526.720357</td>\n    </tr>\n  </tbody>\n</table>\n</div>",
                        "text/plain": "                      price_per_feet\nNEIGHBORHOOD                        \nANNADALE                  355.723770\nARDEN HEIGHTS             318.096848\nARROCHAR                  432.725455\nARROCHAR-SHORE ACRES      407.165000\nBATH BEACH                745.022353\nBATHGATE                  267.206667\nBAY RIDGE                 687.821277\nBAYCHESTER                309.346639\nBEDFORD PARK/NORWOOD      841.807647\nBEDFORD STUYVESANT        526.720357"
                    },
                    "execution_count": 52,
                    "metadata": {},
                    "output_type": "execute_result"
                }
            ],
            "source": "avg_price_final = grouped_df.drop(columns=['GROSS SQUARE FEET', 'SALE PRICE'])\navg_price_final.head(10)\n\n"
        }
    ],
    "metadata": {
        "kernelspec": {
            "display_name": "Python 3.6",
            "language": "python",
            "name": "python3"
        },
        "language_info": {
            "codemirror_mode": {
                "name": "ipython",
                "version": 3
            },
            "file_extension": ".py",
            "mimetype": "text/x-python",
            "name": "python",
            "nbconvert_exporter": "python",
            "pygments_lexer": "ipython3",
            "version": "3.6.9"
        }
    },
    "nbformat": 4,
    "nbformat_minor": 1
}